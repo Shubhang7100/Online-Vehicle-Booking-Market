{
 "cells": [
  {
   "cell_type": "code",
   "execution_count": 1,
   "id": "b47fa027-ad75-42dc-87f9-16a4017260ab",
   "metadata": {},
   "outputs": [],
   "source": [
    "# Import the warnings.\n",
    "\n",
    "import warnings\n",
    "warnings.filterwarnings(\"ignore\")"
   ]
  },
  {
   "cell_type": "code",
   "execution_count": 2,
   "id": "bc862f48-6a51-4209-ba0d-f7ed8a82faa4",
   "metadata": {},
   "outputs": [],
   "source": [
    "#Importing required libraries\n",
    "\n",
    "import numpy as np\n",
    "import pandas as pd\n",
    "import matplotlib.pyplot as plt\n",
    "import seaborn as sns"
   ]
  },
  {
   "cell_type": "code",
   "execution_count": 3,
   "id": "9eff00f5-24ad-4aa7-b296-1302740a18ab",
   "metadata": {},
   "outputs": [],
   "source": [
    "dframe = pd.read_csv('data.csv')"
   ]
  },
  {
   "cell_type": "code",
   "execution_count": 4,
   "id": "f74e46f0-e28e-4dd1-b49f-bb76842aeaaf",
   "metadata": {},
   "outputs": [
    {
     "data": {
      "text/plain": [
       "(1156, 7)"
      ]
     },
     "execution_count": 4,
     "metadata": {},
     "output_type": "execute_result"
    }
   ],
   "source": [
    "dframe.shape"
   ]
  },
  {
   "cell_type": "code",
   "execution_count": 5,
   "id": "553470bf-3266-416b-8b41-71334abd62eb",
   "metadata": {},
   "outputs": [
    {
     "data": {
      "text/html": [
       "<div>\n",
       "<style scoped>\n",
       "    .dataframe tbody tr th:only-of-type {\n",
       "        vertical-align: middle;\n",
       "    }\n",
       "\n",
       "    .dataframe tbody tr th {\n",
       "        vertical-align: top;\n",
       "    }\n",
       "\n",
       "    .dataframe thead th {\n",
       "        text-align: right;\n",
       "    }\n",
       "</style>\n",
       "<table border=\"1\" class=\"dataframe\">\n",
       "  <thead>\n",
       "    <tr style=\"text-align: right;\">\n",
       "      <th></th>\n",
       "      <th>START_DATE*</th>\n",
       "      <th>END_DATE*</th>\n",
       "      <th>CATEGORY*</th>\n",
       "      <th>START*</th>\n",
       "      <th>STOP*</th>\n",
       "      <th>MILES*</th>\n",
       "      <th>PURPOSE*</th>\n",
       "    </tr>\n",
       "  </thead>\n",
       "  <tbody>\n",
       "    <tr>\n",
       "      <th>0</th>\n",
       "      <td>1/1/2016 21:11</td>\n",
       "      <td>1/1/2016 21:17</td>\n",
       "      <td>Business</td>\n",
       "      <td>Fort Pierce</td>\n",
       "      <td>Fort Pierce</td>\n",
       "      <td>5.1</td>\n",
       "      <td>Meal/Entertain</td>\n",
       "    </tr>\n",
       "    <tr>\n",
       "      <th>1</th>\n",
       "      <td>1/2/2016 1:25</td>\n",
       "      <td>1/2/2016 1:37</td>\n",
       "      <td>Business</td>\n",
       "      <td>Fort Pierce</td>\n",
       "      <td>Fort Pierce</td>\n",
       "      <td>5.0</td>\n",
       "      <td>NaN</td>\n",
       "    </tr>\n",
       "    <tr>\n",
       "      <th>2</th>\n",
       "      <td>1/2/2016 20:25</td>\n",
       "      <td>1/2/2016 20:38</td>\n",
       "      <td>Business</td>\n",
       "      <td>Fort Pierce</td>\n",
       "      <td>Fort Pierce</td>\n",
       "      <td>4.8</td>\n",
       "      <td>Errand/Supplies</td>\n",
       "    </tr>\n",
       "    <tr>\n",
       "      <th>3</th>\n",
       "      <td>1/5/2016 17:31</td>\n",
       "      <td>1/5/2016 17:45</td>\n",
       "      <td>Business</td>\n",
       "      <td>Fort Pierce</td>\n",
       "      <td>Fort Pierce</td>\n",
       "      <td>4.7</td>\n",
       "      <td>Meeting</td>\n",
       "    </tr>\n",
       "    <tr>\n",
       "      <th>4</th>\n",
       "      <td>1/6/2016 14:42</td>\n",
       "      <td>1/6/2016 15:49</td>\n",
       "      <td>Business</td>\n",
       "      <td>Fort Pierce</td>\n",
       "      <td>West Palm Beach</td>\n",
       "      <td>63.7</td>\n",
       "      <td>Customer Visit</td>\n",
       "    </tr>\n",
       "  </tbody>\n",
       "</table>\n",
       "</div>"
      ],
      "text/plain": [
       "      START_DATE*       END_DATE* CATEGORY*       START*            STOP*  \\\n",
       "0  1/1/2016 21:11  1/1/2016 21:17  Business  Fort Pierce      Fort Pierce   \n",
       "1   1/2/2016 1:25   1/2/2016 1:37  Business  Fort Pierce      Fort Pierce   \n",
       "2  1/2/2016 20:25  1/2/2016 20:38  Business  Fort Pierce      Fort Pierce   \n",
       "3  1/5/2016 17:31  1/5/2016 17:45  Business  Fort Pierce      Fort Pierce   \n",
       "4  1/6/2016 14:42  1/6/2016 15:49  Business  Fort Pierce  West Palm Beach   \n",
       "\n",
       "   MILES*         PURPOSE*  \n",
       "0     5.1   Meal/Entertain  \n",
       "1     5.0              NaN  \n",
       "2     4.8  Errand/Supplies  \n",
       "3     4.7          Meeting  \n",
       "4    63.7   Customer Visit  "
      ]
     },
     "execution_count": 5,
     "metadata": {},
     "output_type": "execute_result"
    }
   ],
   "source": [
    "dframe.head()"
   ]
  },
  {
   "cell_type": "code",
   "execution_count": 6,
   "id": "bc5cf25b-fd7b-4f3f-af7c-190ee2d33f86",
   "metadata": {},
   "outputs": [
    {
     "name": "stdout",
     "output_type": "stream",
     "text": [
      "<class 'pandas.core.frame.DataFrame'>\n",
      "RangeIndex: 1156 entries, 0 to 1155\n",
      "Data columns (total 7 columns):\n",
      " #   Column       Non-Null Count  Dtype  \n",
      "---  ------       --------------  -----  \n",
      " 0   START_DATE*  1156 non-null   object \n",
      " 1   END_DATE*    1155 non-null   object \n",
      " 2   CATEGORY*    1155 non-null   object \n",
      " 3   START*       1155 non-null   object \n",
      " 4   STOP*        1155 non-null   object \n",
      " 5   MILES*       1156 non-null   float64\n",
      " 6   PURPOSE*     653 non-null    object \n",
      "dtypes: float64(1), object(6)\n",
      "memory usage: 63.3+ KB\n"
     ]
    }
   ],
   "source": [
    "# Column-wise information of the dataframe which states the number of null objects and type of the objects\n",
    "\n",
    "dframe.info()\n"
   ]
  },
  {
   "cell_type": "markdown",
   "id": "f20cb8e9-94a4-4934-9c28-e210aa33a954",
   "metadata": {},
   "source": [
    " - The purpose feature of the data frame consists null values and it perfectly makes sense as most of the passengers would not be wwilling to share their purpose as a part of privacy"
   ]
  },
  {
   "cell_type": "code",
   "execution_count": 7,
   "id": "4d33261d-d58a-4a10-b332-85daaf88f181",
   "metadata": {},
   "outputs": [
    {
     "data": {
      "text/plain": [
       "0       False\n",
       "1        True\n",
       "2       False\n",
       "3       False\n",
       "4       False\n",
       "        ...  \n",
       "1151    False\n",
       "1152    False\n",
       "1153    False\n",
       "1154    False\n",
       "1155     True\n",
       "Name: PURPOSE*, Length: 1156, dtype: bool"
      ]
     },
     "execution_count": 7,
     "metadata": {},
     "output_type": "execute_result"
    }
   ],
   "source": [
    "#Getting the truth table of null (NAN) values in the dataframe 'dframe'\n",
    "\n",
    "dframe['PURPOSE*'].isnull()\n"
   ]
  },
  {
   "cell_type": "code",
   "execution_count": 8,
   "id": "7c75594c-8aad-411a-8960-195a8ea5f9a7",
   "metadata": {},
   "outputs": [
    {
     "data": {
      "text/html": [
       "<div>\n",
       "<style scoped>\n",
       "    .dataframe tbody tr th:only-of-type {\n",
       "        vertical-align: middle;\n",
       "    }\n",
       "\n",
       "    .dataframe tbody tr th {\n",
       "        vertical-align: top;\n",
       "    }\n",
       "\n",
       "    .dataframe thead th {\n",
       "        text-align: right;\n",
       "    }\n",
       "</style>\n",
       "<table border=\"1\" class=\"dataframe\">\n",
       "  <thead>\n",
       "    <tr style=\"text-align: right;\">\n",
       "      <th></th>\n",
       "      <th>count</th>\n",
       "      <th>mean</th>\n",
       "      <th>std</th>\n",
       "      <th>min</th>\n",
       "      <th>25%</th>\n",
       "      <th>50%</th>\n",
       "      <th>75%</th>\n",
       "      <th>max</th>\n",
       "    </tr>\n",
       "  </thead>\n",
       "  <tbody>\n",
       "    <tr>\n",
       "      <th>MILES*</th>\n",
       "      <td>1156.0</td>\n",
       "      <td>21.115398</td>\n",
       "      <td>359.299007</td>\n",
       "      <td>0.5</td>\n",
       "      <td>2.9</td>\n",
       "      <td>6.0</td>\n",
       "      <td>10.4</td>\n",
       "      <td>12204.7</td>\n",
       "    </tr>\n",
       "  </tbody>\n",
       "</table>\n",
       "</div>"
      ],
      "text/plain": [
       "         count       mean         std  min  25%  50%   75%      max\n",
       "MILES*  1156.0  21.115398  359.299007  0.5  2.9  6.0  10.4  12204.7"
      ]
     },
     "execution_count": 8,
     "metadata": {},
     "output_type": "execute_result"
    }
   ],
   "source": [
    "# Summary or analysis of the numberical values of the dataframe\n",
    "\n",
    "dframe.describe().transpose()"
   ]
  },
  {
   "cell_type": "markdown",
   "id": "9402ba12-fcc2-4fc3-adf3-f2011bf4b6d2",
   "metadata": {
    "tags": []
   },
   "source": [
    "## Summary of the dataframe\n",
    "\n",
    "- All the fields exept 'MILES*' are object datatypes\n",
    "- Most of the trips that are booked (i.e) 75% of the trips are below 10.4 miles with a standard deviation of ~360 miles\n",
    "- For any dataset the standard deviation could not be 360 miles when the 75% of the distances traveelled are less than 10.4 miles, so there is something wrong with the distance travelled .\n",
    "- Average trip distance approxiamtes to 21 miles"
   ]
  },
  {
   "cell_type": "markdown",
   "id": "e84eb46e-3ada-427d-b6c8-d109bc84e67b",
   "metadata": {},
   "source": [
    "## Cleaning The dataFrame"
   ]
  },
  {
   "cell_type": "markdown",
   "id": "aeecfc82-8b44-4c54-a2ad-501e8c38de40",
   "metadata": {},
   "source": [
    "- As we are doing the demographic market segment analysis we do not consider the date and time for our market analysis as they are not demographic factors.\n",
    "- The Demographic market Analysis is the target market analysis based on the demographic factors like age , income , gender ..."
   ]
  },
  {
   "cell_type": "code",
   "execution_count": 9,
   "id": "04950870-9e8c-4ffe-8b6f-4739c6fe0d7c",
   "metadata": {},
   "outputs": [
    {
     "name": "stdout",
     "output_type": "stream",
     "text": [
      "<class 'pandas.core.frame.DataFrame'>\n",
      "RangeIndex: 1156 entries, 0 to 1155\n",
      "Data columns (total 7 columns):\n",
      " #   Column       Non-Null Count  Dtype  \n",
      "---  ------       --------------  -----  \n",
      " 0   START_DATE*  1156 non-null   object \n",
      " 1   END_DATE*    1155 non-null   object \n",
      " 2   CATEGORY*    1155 non-null   object \n",
      " 3   START*       1155 non-null   object \n",
      " 4   STOP*        1155 non-null   object \n",
      " 5   MILES*       1156 non-null   float64\n",
      " 6   PURPOSE*     653 non-null    object \n",
      "dtypes: float64(1), object(6)\n",
      "memory usage: 63.3+ KB\n"
     ]
    }
   ],
   "source": [
    "#Getting the info for the datasets that are having null / NAN values\n",
    "\n",
    "dframe.info()"
   ]
  },
  {
   "cell_type": "code",
   "execution_count": 10,
   "id": "1a1713cc-3b68-4f6b-934d-1ca65ff65f9b",
   "metadata": {},
   "outputs": [
    {
     "data": {
      "text/plain": [
       "START_DATE*      0\n",
       "END_DATE*        1\n",
       "CATEGORY*        1\n",
       "START*           1\n",
       "STOP*            1\n",
       "MILES*           0\n",
       "PURPOSE*       503\n",
       "dtype: int64"
      ]
     },
     "execution_count": 10,
     "metadata": {},
     "output_type": "execute_result"
    }
   ],
   "source": [
    "# Total number of elements that are having null / Nan values\n",
    "\n",
    "dframe.isnull().sum()"
   ]
  },
  {
   "cell_type": "markdown",
   "id": "0bd54869-b9e2-4483-b93b-2ac6afada6e9",
   "metadata": {},
   "source": [
    "- As only one observation is missing the `END_DATE*` that data can be dropped from the frame"
   ]
  },
  {
   "cell_type": "code",
   "execution_count": 11,
   "id": "b3d0c881-700d-41c8-83ac-cea3e0a95772",
   "metadata": {},
   "outputs": [
    {
     "data": {
      "text/html": [
       "<div>\n",
       "<style scoped>\n",
       "    .dataframe tbody tr th:only-of-type {\n",
       "        vertical-align: middle;\n",
       "    }\n",
       "\n",
       "    .dataframe tbody tr th {\n",
       "        vertical-align: top;\n",
       "    }\n",
       "\n",
       "    .dataframe thead th {\n",
       "        text-align: right;\n",
       "    }\n",
       "</style>\n",
       "<table border=\"1\" class=\"dataframe\">\n",
       "  <thead>\n",
       "    <tr style=\"text-align: right;\">\n",
       "      <th></th>\n",
       "      <th>START_DATE*</th>\n",
       "      <th>END_DATE*</th>\n",
       "      <th>CATEGORY*</th>\n",
       "      <th>START*</th>\n",
       "      <th>STOP*</th>\n",
       "      <th>MILES*</th>\n",
       "      <th>PURPOSE*</th>\n",
       "    </tr>\n",
       "  </thead>\n",
       "  <tbody>\n",
       "    <tr>\n",
       "      <th>1155</th>\n",
       "      <td>Totals</td>\n",
       "      <td>NaN</td>\n",
       "      <td>NaN</td>\n",
       "      <td>NaN</td>\n",
       "      <td>NaN</td>\n",
       "      <td>12204.7</td>\n",
       "      <td>NaN</td>\n",
       "    </tr>\n",
       "  </tbody>\n",
       "</table>\n",
       "</div>"
      ],
      "text/plain": [
       "     START_DATE* END_DATE* CATEGORY* START* STOP*   MILES* PURPOSE*\n",
       "1155      Totals       NaN       NaN    NaN   NaN  12204.7      NaN"
      ]
     },
     "execution_count": 11,
     "metadata": {},
     "output_type": "execute_result"
    }
   ],
   "source": [
    "dframe[dframe['END_DATE*'].isnull()]"
   ]
  },
  {
   "cell_type": "markdown",
   "id": "eb27d688-c5b4-4f31-985b-c9c2bee5e0b8",
   "metadata": {},
   "source": [
    "- The same observation is missing all the feature values and it is not a data observation rather it is the information of total miles so we exclude it as it is currently of no use to us."
   ]
  },
  {
   "cell_type": "code",
   "execution_count": 12,
   "id": "b37ec327-cab8-4ece-a8bd-f34fdb9aeb23",
   "metadata": {},
   "outputs": [],
   "source": [
    "# Removing the observation that contains the total miles value int the dataset\n",
    "\n",
    "dframe = dframe.drop(labels = 1155,axis = 0)"
   ]
  },
  {
   "cell_type": "code",
   "execution_count": 13,
   "id": "13489293-aef8-4b3c-82aa-55eb6b8313db",
   "metadata": {},
   "outputs": [
    {
     "data": {
      "text/plain": [
       "START_DATE*      0\n",
       "END_DATE*        0\n",
       "CATEGORY*        0\n",
       "START*           0\n",
       "STOP*            0\n",
       "MILES*           0\n",
       "PURPOSE*       502\n",
       "dtype: int64"
      ]
     },
     "execution_count": 13,
     "metadata": {},
     "output_type": "execute_result"
    }
   ],
   "source": [
    "#Rechek weather the nul values of the dataset are removed.\n",
    "\n",
    "dframe.isnull().sum()"
   ]
  },
  {
   "cell_type": "markdown",
   "id": "33df42f5-2165-478e-b69b-5b443f775759",
   "metadata": {},
   "source": [
    "- The only data that is missing is teh data of the `PURPOSE*` of the trip ,and that completely makes sense as the passenger may not be willing to share his or her data of the trip (Privacy issues)\n",
    "- We can igrnore the observations , as we cant replace the value or add a new value to it."
   ]
  },
  {
   "cell_type": "code",
   "execution_count": 14,
   "id": "ab8464b7-6b17-415d-a669-c8dfde89005b",
   "metadata": {},
   "outputs": [],
   "source": [
    "# New Data Frame that doesnt contain any null values and only ued with `PUSPOSE*` and for `CATEGEORY*` we use the dframe\n",
    "\n",
    "newDframe = dframe[~dframe['PURPOSE*'].isnull()]"
   ]
  },
  {
   "cell_type": "code",
   "execution_count": 15,
   "id": "c33fee85-d237-43c0-a15d-64477295e145",
   "metadata": {},
   "outputs": [
    {
     "name": "stdout",
     "output_type": "stream",
     "text": [
      "<class 'pandas.core.frame.DataFrame'>\n",
      "Int64Index: 653 entries, 0 to 1154\n",
      "Data columns (total 7 columns):\n",
      " #   Column       Non-Null Count  Dtype  \n",
      "---  ------       --------------  -----  \n",
      " 0   START_DATE*  653 non-null    object \n",
      " 1   END_DATE*    653 non-null    object \n",
      " 2   CATEGORY*    653 non-null    object \n",
      " 3   START*       653 non-null    object \n",
      " 4   STOP*        653 non-null    object \n",
      " 5   MILES*       653 non-null    float64\n",
      " 6   PURPOSE*     653 non-null    object \n",
      "dtypes: float64(1), object(6)\n",
      "memory usage: 40.8+ KB\n"
     ]
    }
   ],
   "source": [
    "newDframe.info()"
   ]
  },
  {
   "cell_type": "code",
   "execution_count": 16,
   "id": "154fc933-8525-4d24-9824-b2f66f945ac0",
   "metadata": {},
   "outputs": [],
   "source": [
    "# Replaceing Nan values in the dataframe with None\n",
    "\n",
    "dframe = dframe.fillna('None')"
   ]
  },
  {
   "cell_type": "code",
   "execution_count": 17,
   "id": "7288c44b-20cd-4f44-8430-f2b910c710f7",
   "metadata": {},
   "outputs": [],
   "source": [
    "# Classify the data by distance"
   ]
  },
  {
   "cell_type": "code",
   "execution_count": 18,
   "id": "6e270c8a-997b-436f-9b86-1ebbb7e01c27",
   "metadata": {},
   "outputs": [
    {
     "data": {
      "text/html": [
       "<div>\n",
       "<style scoped>\n",
       "    .dataframe tbody tr th:only-of-type {\n",
       "        vertical-align: middle;\n",
       "    }\n",
       "\n",
       "    .dataframe tbody tr th {\n",
       "        vertical-align: top;\n",
       "    }\n",
       "\n",
       "    .dataframe thead th {\n",
       "        text-align: right;\n",
       "    }\n",
       "</style>\n",
       "<table border=\"1\" class=\"dataframe\">\n",
       "  <thead>\n",
       "    <tr style=\"text-align: right;\">\n",
       "      <th></th>\n",
       "      <th>count</th>\n",
       "      <th>mean</th>\n",
       "      <th>std</th>\n",
       "      <th>min</th>\n",
       "      <th>25%</th>\n",
       "      <th>50%</th>\n",
       "      <th>75%</th>\n",
       "      <th>max</th>\n",
       "    </tr>\n",
       "  </thead>\n",
       "  <tbody>\n",
       "    <tr>\n",
       "      <th>MILES*</th>\n",
       "      <td>1155.0</td>\n",
       "      <td>10.56684</td>\n",
       "      <td>21.579106</td>\n",
       "      <td>0.5</td>\n",
       "      <td>2.9</td>\n",
       "      <td>6.0</td>\n",
       "      <td>10.4</td>\n",
       "      <td>310.3</td>\n",
       "    </tr>\n",
       "  </tbody>\n",
       "</table>\n",
       "</div>"
      ],
      "text/plain": [
       "         count      mean        std  min  25%  50%   75%    max\n",
       "MILES*  1155.0  10.56684  21.579106  0.5  2.9  6.0  10.4  310.3"
      ]
     },
     "execution_count": 18,
     "metadata": {},
     "output_type": "execute_result"
    }
   ],
   "source": [
    "dframe.describe().transpose()"
   ]
  },
  {
   "cell_type": "code",
   "execution_count": 19,
   "id": "24898cec-3fed-48af-a220-6af1fab7a289",
   "metadata": {},
   "outputs": [],
   "source": [
    "def setCategeory(distance) :\n",
    "    if distance < 2.9 :\n",
    "        return 'Small Distance'\n",
    "    elif distance < 6 :\n",
    "        return 'Medium Distance'\n",
    "    elif distance < 10.4  : \n",
    "        return 'Large Distance'\n",
    "    else :\n",
    "        return 'Super Large Distance'\n",
    "    \n",
    "# Assigning the classes based on the percentile it coveres\n",
    "\n",
    "dframe['driveCategeory'] = dframe['MILES*'].apply(lambda value : setCategeory(value))\n",
    "\n",
    "        "
   ]
  },
  {
   "cell_type": "code",
   "execution_count": 20,
   "id": "ef768476-47ff-462e-ab1d-f4cf2f9d01f4",
   "metadata": {},
   "outputs": [
    {
     "data": {
      "text/html": [
       "<div>\n",
       "<style scoped>\n",
       "    .dataframe tbody tr th:only-of-type {\n",
       "        vertical-align: middle;\n",
       "    }\n",
       "\n",
       "    .dataframe tbody tr th {\n",
       "        vertical-align: top;\n",
       "    }\n",
       "\n",
       "    .dataframe thead th {\n",
       "        text-align: right;\n",
       "    }\n",
       "</style>\n",
       "<table border=\"1\" class=\"dataframe\">\n",
       "  <thead>\n",
       "    <tr style=\"text-align: right;\">\n",
       "      <th></th>\n",
       "      <th>START_DATE*</th>\n",
       "      <th>END_DATE*</th>\n",
       "      <th>CATEGORY*</th>\n",
       "      <th>START*</th>\n",
       "      <th>STOP*</th>\n",
       "      <th>MILES*</th>\n",
       "      <th>PURPOSE*</th>\n",
       "      <th>driveCategeory</th>\n",
       "    </tr>\n",
       "  </thead>\n",
       "  <tbody>\n",
       "    <tr>\n",
       "      <th>0</th>\n",
       "      <td>1/1/2016 21:11</td>\n",
       "      <td>1/1/2016 21:17</td>\n",
       "      <td>Business</td>\n",
       "      <td>Fort Pierce</td>\n",
       "      <td>Fort Pierce</td>\n",
       "      <td>5.1</td>\n",
       "      <td>Meal/Entertain</td>\n",
       "      <td>Medium Distance</td>\n",
       "    </tr>\n",
       "    <tr>\n",
       "      <th>1</th>\n",
       "      <td>1/2/2016 1:25</td>\n",
       "      <td>1/2/2016 1:37</td>\n",
       "      <td>Business</td>\n",
       "      <td>Fort Pierce</td>\n",
       "      <td>Fort Pierce</td>\n",
       "      <td>5.0</td>\n",
       "      <td>None</td>\n",
       "      <td>Medium Distance</td>\n",
       "    </tr>\n",
       "    <tr>\n",
       "      <th>2</th>\n",
       "      <td>1/2/2016 20:25</td>\n",
       "      <td>1/2/2016 20:38</td>\n",
       "      <td>Business</td>\n",
       "      <td>Fort Pierce</td>\n",
       "      <td>Fort Pierce</td>\n",
       "      <td>4.8</td>\n",
       "      <td>Errand/Supplies</td>\n",
       "      <td>Medium Distance</td>\n",
       "    </tr>\n",
       "    <tr>\n",
       "      <th>3</th>\n",
       "      <td>1/5/2016 17:31</td>\n",
       "      <td>1/5/2016 17:45</td>\n",
       "      <td>Business</td>\n",
       "      <td>Fort Pierce</td>\n",
       "      <td>Fort Pierce</td>\n",
       "      <td>4.7</td>\n",
       "      <td>Meeting</td>\n",
       "      <td>Medium Distance</td>\n",
       "    </tr>\n",
       "    <tr>\n",
       "      <th>4</th>\n",
       "      <td>1/6/2016 14:42</td>\n",
       "      <td>1/6/2016 15:49</td>\n",
       "      <td>Business</td>\n",
       "      <td>Fort Pierce</td>\n",
       "      <td>West Palm Beach</td>\n",
       "      <td>63.7</td>\n",
       "      <td>Customer Visit</td>\n",
       "      <td>Super Large Distance</td>\n",
       "    </tr>\n",
       "    <tr>\n",
       "      <th>...</th>\n",
       "      <td>...</td>\n",
       "      <td>...</td>\n",
       "      <td>...</td>\n",
       "      <td>...</td>\n",
       "      <td>...</td>\n",
       "      <td>...</td>\n",
       "      <td>...</td>\n",
       "      <td>...</td>\n",
       "    </tr>\n",
       "    <tr>\n",
       "      <th>1150</th>\n",
       "      <td>12/31/2016 1:07</td>\n",
       "      <td>12/31/2016 1:14</td>\n",
       "      <td>Business</td>\n",
       "      <td>Kar?chi</td>\n",
       "      <td>Kar?chi</td>\n",
       "      <td>0.7</td>\n",
       "      <td>Meeting</td>\n",
       "      <td>Small Distance</td>\n",
       "    </tr>\n",
       "    <tr>\n",
       "      <th>1151</th>\n",
       "      <td>12/31/2016 13:24</td>\n",
       "      <td>12/31/2016 13:42</td>\n",
       "      <td>Business</td>\n",
       "      <td>Kar?chi</td>\n",
       "      <td>Unknown Location</td>\n",
       "      <td>3.9</td>\n",
       "      <td>Temporary Site</td>\n",
       "      <td>Medium Distance</td>\n",
       "    </tr>\n",
       "    <tr>\n",
       "      <th>1152</th>\n",
       "      <td>12/31/2016 15:03</td>\n",
       "      <td>12/31/2016 15:38</td>\n",
       "      <td>Business</td>\n",
       "      <td>Unknown Location</td>\n",
       "      <td>Unknown Location</td>\n",
       "      <td>16.2</td>\n",
       "      <td>Meeting</td>\n",
       "      <td>Super Large Distance</td>\n",
       "    </tr>\n",
       "    <tr>\n",
       "      <th>1153</th>\n",
       "      <td>12/31/2016 21:32</td>\n",
       "      <td>12/31/2016 21:50</td>\n",
       "      <td>Business</td>\n",
       "      <td>Katunayake</td>\n",
       "      <td>Gampaha</td>\n",
       "      <td>6.4</td>\n",
       "      <td>Temporary Site</td>\n",
       "      <td>Large Distance</td>\n",
       "    </tr>\n",
       "    <tr>\n",
       "      <th>1154</th>\n",
       "      <td>12/31/2016 22:08</td>\n",
       "      <td>12/31/2016 23:51</td>\n",
       "      <td>Business</td>\n",
       "      <td>Gampaha</td>\n",
       "      <td>Ilukwatta</td>\n",
       "      <td>48.2</td>\n",
       "      <td>Temporary Site</td>\n",
       "      <td>Super Large Distance</td>\n",
       "    </tr>\n",
       "  </tbody>\n",
       "</table>\n",
       "<p>1155 rows × 8 columns</p>\n",
       "</div>"
      ],
      "text/plain": [
       "           START_DATE*         END_DATE* CATEGORY*            START*  \\\n",
       "0       1/1/2016 21:11    1/1/2016 21:17  Business       Fort Pierce   \n",
       "1        1/2/2016 1:25     1/2/2016 1:37  Business       Fort Pierce   \n",
       "2       1/2/2016 20:25    1/2/2016 20:38  Business       Fort Pierce   \n",
       "3       1/5/2016 17:31    1/5/2016 17:45  Business       Fort Pierce   \n",
       "4       1/6/2016 14:42    1/6/2016 15:49  Business       Fort Pierce   \n",
       "...                ...               ...       ...               ...   \n",
       "1150   12/31/2016 1:07   12/31/2016 1:14  Business           Kar?chi   \n",
       "1151  12/31/2016 13:24  12/31/2016 13:42  Business           Kar?chi   \n",
       "1152  12/31/2016 15:03  12/31/2016 15:38  Business  Unknown Location   \n",
       "1153  12/31/2016 21:32  12/31/2016 21:50  Business        Katunayake   \n",
       "1154  12/31/2016 22:08  12/31/2016 23:51  Business           Gampaha   \n",
       "\n",
       "                 STOP*  MILES*         PURPOSE*        driveCategeory  \n",
       "0          Fort Pierce     5.1   Meal/Entertain       Medium Distance  \n",
       "1          Fort Pierce     5.0             None       Medium Distance  \n",
       "2          Fort Pierce     4.8  Errand/Supplies       Medium Distance  \n",
       "3          Fort Pierce     4.7          Meeting       Medium Distance  \n",
       "4      West Palm Beach    63.7   Customer Visit  Super Large Distance  \n",
       "...                ...     ...              ...                   ...  \n",
       "1150           Kar?chi     0.7          Meeting        Small Distance  \n",
       "1151  Unknown Location     3.9   Temporary Site       Medium Distance  \n",
       "1152  Unknown Location    16.2          Meeting  Super Large Distance  \n",
       "1153           Gampaha     6.4   Temporary Site        Large Distance  \n",
       "1154         Ilukwatta    48.2   Temporary Site  Super Large Distance  \n",
       "\n",
       "[1155 rows x 8 columns]"
      ]
     },
     "execution_count": 20,
     "metadata": {},
     "output_type": "execute_result"
    }
   ],
   "source": [
    "dframe"
   ]
  },
  {
   "cell_type": "code",
   "execution_count": 21,
   "id": "8fb5b7cd-face-4731-aad0-70bec2392e84",
   "metadata": {},
   "outputs": [
    {
     "data": {
      "text/html": [
       "<div>\n",
       "<style scoped>\n",
       "    .dataframe tbody tr th:only-of-type {\n",
       "        vertical-align: middle;\n",
       "    }\n",
       "\n",
       "    .dataframe tbody tr th {\n",
       "        vertical-align: top;\n",
       "    }\n",
       "\n",
       "    .dataframe thead th {\n",
       "        text-align: right;\n",
       "    }\n",
       "</style>\n",
       "<table border=\"1\" class=\"dataframe\">\n",
       "  <thead>\n",
       "    <tr style=\"text-align: right;\">\n",
       "      <th></th>\n",
       "      <th>START_DATE*</th>\n",
       "      <th>END_DATE*</th>\n",
       "      <th>CATEGORY*</th>\n",
       "      <th>START*</th>\n",
       "      <th>STOP*</th>\n",
       "      <th>MILES*</th>\n",
       "      <th>PURPOSE*</th>\n",
       "      <th>driveCategeory</th>\n",
       "    </tr>\n",
       "  </thead>\n",
       "  <tbody>\n",
       "    <tr>\n",
       "      <th>0</th>\n",
       "      <td>1/1/2016 21:11</td>\n",
       "      <td>1/1/2016 21:17</td>\n",
       "      <td>Business</td>\n",
       "      <td>Fort Pierce</td>\n",
       "      <td>Fort Pierce</td>\n",
       "      <td>5.1</td>\n",
       "      <td>Meal/Entertain</td>\n",
       "      <td>Medium Distance</td>\n",
       "    </tr>\n",
       "    <tr>\n",
       "      <th>1</th>\n",
       "      <td>1/2/2016 1:25</td>\n",
       "      <td>1/2/2016 1:37</td>\n",
       "      <td>Business</td>\n",
       "      <td>Fort Pierce</td>\n",
       "      <td>Fort Pierce</td>\n",
       "      <td>5.0</td>\n",
       "      <td>None</td>\n",
       "      <td>Medium Distance</td>\n",
       "    </tr>\n",
       "    <tr>\n",
       "      <th>2</th>\n",
       "      <td>1/2/2016 20:25</td>\n",
       "      <td>1/2/2016 20:38</td>\n",
       "      <td>Business</td>\n",
       "      <td>Fort Pierce</td>\n",
       "      <td>Fort Pierce</td>\n",
       "      <td>4.8</td>\n",
       "      <td>Errand/Supplies</td>\n",
       "      <td>Medium Distance</td>\n",
       "    </tr>\n",
       "    <tr>\n",
       "      <th>3</th>\n",
       "      <td>1/5/2016 17:31</td>\n",
       "      <td>1/5/2016 17:45</td>\n",
       "      <td>Business</td>\n",
       "      <td>Fort Pierce</td>\n",
       "      <td>Fort Pierce</td>\n",
       "      <td>4.7</td>\n",
       "      <td>Meeting</td>\n",
       "      <td>Medium Distance</td>\n",
       "    </tr>\n",
       "    <tr>\n",
       "      <th>4</th>\n",
       "      <td>1/6/2016 14:42</td>\n",
       "      <td>1/6/2016 15:49</td>\n",
       "      <td>Business</td>\n",
       "      <td>Fort Pierce</td>\n",
       "      <td>West Palm Beach</td>\n",
       "      <td>63.7</td>\n",
       "      <td>Customer Visit</td>\n",
       "      <td>Super Large Distance</td>\n",
       "    </tr>\n",
       "  </tbody>\n",
       "</table>\n",
       "</div>"
      ],
      "text/plain": [
       "      START_DATE*       END_DATE* CATEGORY*       START*            STOP*  \\\n",
       "0  1/1/2016 21:11  1/1/2016 21:17  Business  Fort Pierce      Fort Pierce   \n",
       "1   1/2/2016 1:25   1/2/2016 1:37  Business  Fort Pierce      Fort Pierce   \n",
       "2  1/2/2016 20:25  1/2/2016 20:38  Business  Fort Pierce      Fort Pierce   \n",
       "3  1/5/2016 17:31  1/5/2016 17:45  Business  Fort Pierce      Fort Pierce   \n",
       "4  1/6/2016 14:42  1/6/2016 15:49  Business  Fort Pierce  West Palm Beach   \n",
       "\n",
       "   MILES*         PURPOSE*        driveCategeory  \n",
       "0     5.1   Meal/Entertain       Medium Distance  \n",
       "1     5.0             None       Medium Distance  \n",
       "2     4.8  Errand/Supplies       Medium Distance  \n",
       "3     4.7          Meeting       Medium Distance  \n",
       "4    63.7   Customer Visit  Super Large Distance  "
      ]
     },
     "execution_count": 21,
     "metadata": {},
     "output_type": "execute_result"
    }
   ],
   "source": [
    "dframe.head()"
   ]
  },
  {
   "cell_type": "code",
   "execution_count": 22,
   "id": "e8ac3fed-8db7-4b96-adbb-6b40c8bbeb1d",
   "metadata": {},
   "outputs": [
    {
     "data": {
      "text/plain": [
       "Super Large Distance    305\n",
       "Medium Distance         288\n",
       "Small Distance          288\n",
       "Large Distance          274\n",
       "Name: driveCategeory, dtype: int64"
      ]
     },
     "execution_count": 22,
     "metadata": {},
     "output_type": "execute_result"
    }
   ],
   "source": [
    "# Checking the value counts of the 'driveCategeory'\n",
    "\n",
    "dframe['driveCategeory'].value_counts()"
   ]
  },
  {
   "cell_type": "code",
   "execution_count": 23,
   "id": "e2d915c0-d949-496e-8ed0-ded4052637c1",
   "metadata": {},
   "outputs": [
    {
     "data": {
      "text/html": [
       "<div>\n",
       "<style scoped>\n",
       "    .dataframe tbody tr th:only-of-type {\n",
       "        vertical-align: middle;\n",
       "    }\n",
       "\n",
       "    .dataframe tbody tr th {\n",
       "        vertical-align: top;\n",
       "    }\n",
       "\n",
       "    .dataframe thead th {\n",
       "        text-align: right;\n",
       "    }\n",
       "</style>\n",
       "<table border=\"1\" class=\"dataframe\">\n",
       "  <thead>\n",
       "    <tr style=\"text-align: right;\">\n",
       "      <th></th>\n",
       "      <th>PURPOSE*</th>\n",
       "      <th>CATEGORY*</th>\n",
       "    </tr>\n",
       "    <tr>\n",
       "      <th>driveCategeory</th>\n",
       "      <th></th>\n",
       "      <th></th>\n",
       "    </tr>\n",
       "  </thead>\n",
       "  <tbody>\n",
       "    <tr>\n",
       "      <th>Large Distance</th>\n",
       "      <td>274</td>\n",
       "      <td>274</td>\n",
       "    </tr>\n",
       "    <tr>\n",
       "      <th>Medium Distance</th>\n",
       "      <td>288</td>\n",
       "      <td>288</td>\n",
       "    </tr>\n",
       "    <tr>\n",
       "      <th>Small Distance</th>\n",
       "      <td>288</td>\n",
       "      <td>288</td>\n",
       "    </tr>\n",
       "    <tr>\n",
       "      <th>Super Large Distance</th>\n",
       "      <td>305</td>\n",
       "      <td>305</td>\n",
       "    </tr>\n",
       "  </tbody>\n",
       "</table>\n",
       "</div>"
      ],
      "text/plain": [
       "                      PURPOSE*  CATEGORY*\n",
       "driveCategeory                           \n",
       "Large Distance             274        274\n",
       "Medium Distance            288        288\n",
       "Small Distance             288        288\n",
       "Super Large Distance       305        305"
      ]
     },
     "execution_count": 23,
     "metadata": {},
     "output_type": "execute_result"
    }
   ],
   "source": [
    "# Grouping with repect to the 'status'\n",
    "\n",
    "dframe.groupby(by = dframe['driveCategeory']).count()[['PURPOSE*','CATEGORY*']]"
   ]
  },
  {
   "cell_type": "code",
   "execution_count": 24,
   "id": "5920da6f-818e-42d0-939c-415e23370569",
   "metadata": {},
   "outputs": [],
   "source": [
    "# Calculatiing the top locations where the drivers are getting more rides \n",
    "# More traffic locations for starting the journey to drivers and passengers\n",
    "\n",
    "\n",
    "highStart = dframe.groupby(by = dframe['START*']).count()['MILES*'].sort_values(ascending = False)\n",
    "\n",
    "# Set the values to ascending to get the the places that have most of the pickup's"
   ]
  },
  {
   "cell_type": "code",
   "execution_count": 25,
   "id": "3b139053-3e2d-4f93-9906-7d59df3343a2",
   "metadata": {},
   "outputs": [
    {
     "data": {
      "text/plain": [
       "START*\n",
       "Cary                201\n",
       "Unknown Location    148\n",
       "Morrisville          85\n",
       "Whitebridge          68\n",
       "Islamabad            57\n",
       "Durham               37\n",
       "Name: MILES*, dtype: int64"
      ]
     },
     "execution_count": 25,
     "metadata": {},
     "output_type": "execute_result"
    }
   ],
   "source": [
    "# The 5 most trafic locations for drivers to pick up the passengers\n",
    "\n",
    "highStart.head(6)"
   ]
  },
  {
   "cell_type": "code",
   "execution_count": 26,
   "id": "02e0d633-fe68-41bb-b61a-c71813419b95",
   "metadata": {},
   "outputs": [],
   "source": [
    "# Calculatiing the top locations where the drivers are drop their passenger \n",
    "# More traffic locations for stoping the journey to drivers and passengers\n",
    "\n",
    "highStop = dframe.groupby(by = dframe['STOP*']).count()['MILES*'].sort_values(ascending = False)\n",
    "\n",
    "# Stop locations that are used the most"
   ]
  },
  {
   "cell_type": "markdown",
   "id": "18ba2946-a4d2-49bb-8cab-944fe1b471be",
   "metadata": {},
   "source": [
    "- The number of `STOP` and `START` are same and just differ by a number is hardly considerable "
   ]
  },
  {
   "cell_type": "code",
   "execution_count": 27,
   "id": "77cf6927-f467-4852-8116-1191dee061df",
   "metadata": {},
   "outputs": [
    {
     "data": {
      "text/plain": [
       "867"
      ]
     },
     "execution_count": 27,
     "metadata": {},
     "output_type": "execute_result"
    }
   ],
   "source": [
    "# Calculating the number of passengers that are having different start and stop locations\n",
    "\n",
    "dframe[dframe['START*'] != dframe['STOP*']].shape[0]"
   ]
  },
  {
   "cell_type": "code",
   "execution_count": 28,
   "id": "8dd734ea-2fa6-48c8-860f-f59c6f2a1c81",
   "metadata": {},
   "outputs": [
    {
     "data": {
      "text/plain": [
       "288"
      ]
     },
     "execution_count": 28,
     "metadata": {},
     "output_type": "execute_result"
    }
   ],
   "source": [
    "# Calculating the number of passengers that are having same start and stop locations\n",
    "\n",
    "dframe[dframe['START*'] == dframe['STOP*']].shape[0]"
   ]
  },
  {
   "cell_type": "markdown",
   "id": "9c62b602-ed24-44fb-ad04-0098bdec14ed",
   "metadata": {},
   "source": [
    "- Although the `START` and `STOP` locations of the locations are same in number and differ in 1 or 2 , But the passengers who board and drop at these locations are not the same .\n",
    "- Most of the people choose intercity travel than the people who choose travel inside the city and that can be clearly see in the balove calculation."
   ]
  },
  {
   "cell_type": "code",
   "execution_count": 29,
   "id": "5a21a4c6-4c8a-44c5-823e-bc8730c5edce",
   "metadata": {},
   "outputs": [
    {
     "data": {
      "text/html": [
       "<div>\n",
       "<style scoped>\n",
       "    .dataframe tbody tr th:only-of-type {\n",
       "        vertical-align: middle;\n",
       "    }\n",
       "\n",
       "    .dataframe tbody tr th {\n",
       "        vertical-align: top;\n",
       "    }\n",
       "\n",
       "    .dataframe thead th {\n",
       "        text-align: right;\n",
       "    }\n",
       "</style>\n",
       "<table border=\"1\" class=\"dataframe\">\n",
       "  <thead>\n",
       "    <tr style=\"text-align: right;\">\n",
       "      <th></th>\n",
       "      <th>START_DATE*</th>\n",
       "      <th>END_DATE*</th>\n",
       "      <th>CATEGORY*</th>\n",
       "      <th>START*</th>\n",
       "      <th>STOP*</th>\n",
       "      <th>MILES*</th>\n",
       "      <th>PURPOSE*</th>\n",
       "      <th>driveCategeory</th>\n",
       "    </tr>\n",
       "  </thead>\n",
       "  <tbody>\n",
       "    <tr>\n",
       "      <th>0</th>\n",
       "      <td>1/1/2016 21:11</td>\n",
       "      <td>1/1/2016 21:17</td>\n",
       "      <td>Business</td>\n",
       "      <td>Fort Pierce</td>\n",
       "      <td>Fort Pierce</td>\n",
       "      <td>5.1</td>\n",
       "      <td>Meal/Entertain</td>\n",
       "      <td>Medium Distance</td>\n",
       "    </tr>\n",
       "    <tr>\n",
       "      <th>1</th>\n",
       "      <td>1/2/2016 1:25</td>\n",
       "      <td>1/2/2016 1:37</td>\n",
       "      <td>Business</td>\n",
       "      <td>Fort Pierce</td>\n",
       "      <td>Fort Pierce</td>\n",
       "      <td>5.0</td>\n",
       "      <td>None</td>\n",
       "      <td>Medium Distance</td>\n",
       "    </tr>\n",
       "    <tr>\n",
       "      <th>2</th>\n",
       "      <td>1/2/2016 20:25</td>\n",
       "      <td>1/2/2016 20:38</td>\n",
       "      <td>Business</td>\n",
       "      <td>Fort Pierce</td>\n",
       "      <td>Fort Pierce</td>\n",
       "      <td>4.8</td>\n",
       "      <td>Errand/Supplies</td>\n",
       "      <td>Medium Distance</td>\n",
       "    </tr>\n",
       "    <tr>\n",
       "      <th>3</th>\n",
       "      <td>1/5/2016 17:31</td>\n",
       "      <td>1/5/2016 17:45</td>\n",
       "      <td>Business</td>\n",
       "      <td>Fort Pierce</td>\n",
       "      <td>Fort Pierce</td>\n",
       "      <td>4.7</td>\n",
       "      <td>Meeting</td>\n",
       "      <td>Medium Distance</td>\n",
       "    </tr>\n",
       "    <tr>\n",
       "      <th>4</th>\n",
       "      <td>1/6/2016 14:42</td>\n",
       "      <td>1/6/2016 15:49</td>\n",
       "      <td>Business</td>\n",
       "      <td>Fort Pierce</td>\n",
       "      <td>West Palm Beach</td>\n",
       "      <td>63.7</td>\n",
       "      <td>Customer Visit</td>\n",
       "      <td>Super Large Distance</td>\n",
       "    </tr>\n",
       "  </tbody>\n",
       "</table>\n",
       "</div>"
      ],
      "text/plain": [
       "      START_DATE*       END_DATE* CATEGORY*       START*            STOP*  \\\n",
       "0  1/1/2016 21:11  1/1/2016 21:17  Business  Fort Pierce      Fort Pierce   \n",
       "1   1/2/2016 1:25   1/2/2016 1:37  Business  Fort Pierce      Fort Pierce   \n",
       "2  1/2/2016 20:25  1/2/2016 20:38  Business  Fort Pierce      Fort Pierce   \n",
       "3  1/5/2016 17:31  1/5/2016 17:45  Business  Fort Pierce      Fort Pierce   \n",
       "4  1/6/2016 14:42  1/6/2016 15:49  Business  Fort Pierce  West Palm Beach   \n",
       "\n",
       "   MILES*         PURPOSE*        driveCategeory  \n",
       "0     5.1   Meal/Entertain       Medium Distance  \n",
       "1     5.0             None       Medium Distance  \n",
       "2     4.8  Errand/Supplies       Medium Distance  \n",
       "3     4.7          Meeting       Medium Distance  \n",
       "4    63.7   Customer Visit  Super Large Distance  "
      ]
     },
     "execution_count": 29,
     "metadata": {},
     "output_type": "execute_result"
    }
   ],
   "source": [
    "dframe.head()"
   ]
  },
  {
   "cell_type": "markdown",
   "id": "e303fb37-10b6-4a52-9987-fccdd62e000f",
   "metadata": {},
   "source": [
    "## Visualizing the Data"
   ]
  },
  {
   "cell_type": "code",
   "execution_count": 30,
   "id": "de511f5d-412f-4fea-bf34-1501199ddf3d",
   "metadata": {},
   "outputs": [
    {
     "data": {
      "image/png": "[encoded data removed]",
      "text/plain": [
       "<Figure size 1200x600 with 1 Axes>"
      ]
     },
     "metadata": {},
     "output_type": "display_data"
    }
   ],
   "source": [
    "# Plot a graph of size [12,6]\n",
    "plt.figure(figsize = (12,6))\n",
    "\n",
    "# Objects to set font\n",
    "font1 = {'fontname' : 'serif',\n",
    "        'fontsize' : 14}\n",
    "font2 = {'fontname' : 'serif',\n",
    "        'fontsize' : 20,\n",
    "        'color' : 'orange'}\n",
    "font3 = {'fontname' : 'serif',\n",
    "        'fontsize' : 10}\n",
    "\n",
    "# Plot a count plot\n",
    "sns.countplot(data = dframe,x = 'driveCategeory',palette='viridis',)\n",
    "\n",
    "# Assign X label and Y label\n",
    "plt.xlabel('Drive Categroy By Distance',**font1)\n",
    "plt.xticks(**font3)\n",
    "plt.ylabel('Number of trips',**font1);\n",
    "plt.xticks(**font3)\n",
    "\n",
    "# Set a title to the plot\n",
    "plt.title('Drive Categoery',**font2);"
   ]
  },
  {
   "cell_type": "markdown",
   "id": "d09f20c0-bbbb-46f5-be24-86dfc8a9b977",
   "metadata": {},
   "source": [
    "### `Inferences : `\n",
    "\n",
    "- Total number of Small Distance passengers are       : `288`\n",
    "- Total number of Medium Distance passengers are      : `288`\n",
    "- Total number of Large Distance passengers are       : `274`\n",
    "- Total number of Super Large Distance passengers are : `305`\n",
    "\n",
    "- Total number of observations : `1155`"
   ]
  },
  {
   "cell_type": "code",
   "execution_count": 31,
   "id": "e4b9837f-cfec-4bd4-9579-0d3e1aa24ba6",
   "metadata": {},
   "outputs": [
    {
     "data": {
      "image/png": "[encoded data removed]",
      "text/plain": [
       "<Figure size 1200x600 with 1 Axes>"
      ]
     },
     "metadata": {},
     "output_type": "display_data"
    }
   ],
   "source": [
    "# Plot a graph of size [12,6]\n",
    "plt.figure(figsize = (12,6))\n",
    "\n",
    "# Objects to set font\n",
    "font1 = {'fontname' : 'serif',\n",
    "        'fontsize' : 14}\n",
    "font2 = {'fontname' : 'serif',\n",
    "        'fontsize' : 20,\n",
    "        'color' : 'orange'}\n",
    "font3 = {'fontname' : 'serif',\n",
    "        'fontsize' : 10}\n",
    "\n",
    "# Plot a count plot\n",
    "dfr = highStart.reset_index()\n",
    "sns.barplot(x = dfr['START*'][:6],y = dfr['MILES*'][:6],palette = 'viridis')\n",
    "\n",
    "# Assign X label and Y label\n",
    "plt.xlabel('Cities',**font1)\n",
    "plt.xticks(**font3)\n",
    "plt.ylabel('Number of trips',**font1);\n",
    "plt.xticks(**font3)\n",
    "\n",
    "# Set a title to the plot\n",
    "plt.title('Cities with most trip demand',**font2);"
   ]
  },
  {
   "cell_type": "markdown",
   "id": "cfdb3bfe-2bc6-4e02-8272-6dbdb7c43601",
   "metadata": {},
   "source": [
    "#### `Inferences : `\n",
    "- The cities with most of the pickups are : `Cary`,`Morsville`,`Whitebridge`,`Islamabad`,`Durham`,\n",
    "- The same is also true for the most number of drops so it makes sense on calling them the busiest cities judging by the data available \n"
   ]
  },
  {
   "cell_type": "code",
   "execution_count": 32,
   "id": "267abfff-caf2-4e5c-914d-1f03832e09d8",
   "metadata": {},
   "outputs": [
    {
     "data": {
      "text/plain": [
       "Meeting            187\n",
       "Meal/Entertain     160\n",
       "Errand/Supplies    128\n",
       "Customer Visit     101\n",
       "Temporary Site      50\n",
       "Between Offices     18\n",
       "Moving               4\n",
       "Airport/Travel       3\n",
       "Charity ($)          1\n",
       "Commute              1\n",
       "Name: PURPOSE*, dtype: int64"
      ]
     },
     "execution_count": 32,
     "metadata": {},
     "output_type": "execute_result"
    }
   ],
   "source": [
    "newDframe['PURPOSE*'].value_counts()"
   ]
  },
  {
   "cell_type": "code",
   "execution_count": 33,
   "id": "87f3b0c7-9eaf-4041-8985-a5a3bf09efca",
   "metadata": {},
   "outputs": [
    {
     "data": {
      "image/png": "[encoded data removed]",
      "text/plain": [
       "<Figure size 1200x600 with 1 Axes>"
      ]
     },
     "metadata": {},
     "output_type": "display_data"
    }
   ],
   "source": [
    "# Plot a graph of size [12,6]\n",
    "plt.figure(figsize = (12,6))\n",
    "\n",
    "# Objects to set font\n",
    "font1 = {'fontname' : 'serif',\n",
    "        'fontsize' : 14}\n",
    "font2 = {'fontname' : 'serif',\n",
    "        'fontsize' : 20,\n",
    "        'color' : 'orange'}\n",
    "font3 = {'fontname' : 'serif',\n",
    "        'fontsize' : 10}\n",
    "\n",
    "# Plot a count plot\n",
    "sns.countplot(data = newDframe,x = 'PURPOSE*',palette = 'YlOrBr',hue = 'CATEGORY*')\n",
    "\n",
    "# Assign X label and Y label\n",
    "plt.xlabel('Purpose of Trip',**font1)\n",
    "plt.xticks(**font3)\n",
    "plt.ylabel('Number of trips',**font1);\n",
    "plt.xticks(**font3,rotation = 90)\n",
    "plt.legend(loc = (.8,.5))\n",
    "\n",
    "# Set a title to the plot\n",
    "plt.title('Cities with most trip demand',**font2);"
   ]
  },
  {
   "cell_type": "markdown",
   "id": "1743caa5-3a9b-4318-8c8e-a5097899431b",
   "metadata": {},
   "source": [
    "### `Inferences : ` \n",
    "-  Most of the trips that are in the dataset are business trips as per the data available .\n",
    "-  We have also seen that almost none of the trips are personal trips could potentially be of two reasons either data not being shared due to privacy reasons or the cab booking is only being done for business purposes ."
   ]
  },
  {
   "cell_type": "markdown",
   "id": "b1651afb-9e42-472f-8099-3e351a59790c",
   "metadata": {},
   "source": [
    "## Dummy Variable creation for Clustering"
   ]
  },
  {
   "cell_type": "code",
   "execution_count": 34,
   "id": "a3b4f414-b669-46b9-904c-77d9e1ee1d86",
   "metadata": {},
   "outputs": [],
   "source": [
    "# Import required packages\n",
    "\n",
    "from sklearn.preprocessing import LabelEncoder\n",
    "\n",
    "# Create a object of label encoder\n",
    "\n",
    "lc = LabelEncoder()"
   ]
  },
  {
   "cell_type": "code",
   "execution_count": 35,
   "id": "bfff602b-109c-485d-ba1b-3886c851f9eb",
   "metadata": {},
   "outputs": [
    {
     "data": {
      "text/plain": [
       "None               502\n",
       "Meeting            187\n",
       "Meal/Entertain     160\n",
       "Errand/Supplies    128\n",
       "Customer Visit     101\n",
       "Temporary Site      50\n",
       "Between Offices     18\n",
       "Moving               4\n",
       "Airport/Travel       3\n",
       "Charity ($)          1\n",
       "Commute              1\n",
       "Name: PURPOSE*, dtype: int64"
      ]
     },
     "execution_count": 35,
     "metadata": {},
     "output_type": "execute_result"
    }
   ],
   "source": [
    "dframe['PURPOSE*'].value_counts()"
   ]
  },
  {
   "cell_type": "code",
   "execution_count": 36,
   "id": "380aa382-6953-4b16-af39-3855b30147a5",
   "metadata": {},
   "outputs": [
    {
     "data": {
      "text/html": [
       "<div>\n",
       "<style scoped>\n",
       "    .dataframe tbody tr th:only-of-type {\n",
       "        vertical-align: middle;\n",
       "    }\n",
       "\n",
       "    .dataframe tbody tr th {\n",
       "        vertical-align: top;\n",
       "    }\n",
       "\n",
       "    .dataframe thead th {\n",
       "        text-align: right;\n",
       "    }\n",
       "</style>\n",
       "<table border=\"1\" class=\"dataframe\">\n",
       "  <thead>\n",
       "    <tr style=\"text-align: right;\">\n",
       "      <th></th>\n",
       "      <th>START_DATE*</th>\n",
       "      <th>END_DATE*</th>\n",
       "      <th>CATEGORY*</th>\n",
       "      <th>START*</th>\n",
       "      <th>STOP*</th>\n",
       "      <th>MILES*</th>\n",
       "      <th>PURPOSE*</th>\n",
       "      <th>driveCategeory</th>\n",
       "    </tr>\n",
       "  </thead>\n",
       "  <tbody>\n",
       "    <tr>\n",
       "      <th>0</th>\n",
       "      <td>1/1/2016 21:11</td>\n",
       "      <td>1/1/2016 21:17</td>\n",
       "      <td>Business</td>\n",
       "      <td>Fort Pierce</td>\n",
       "      <td>Fort Pierce</td>\n",
       "      <td>5.1</td>\n",
       "      <td>Meal/Entertain</td>\n",
       "      <td>Medium Distance</td>\n",
       "    </tr>\n",
       "    <tr>\n",
       "      <th>1</th>\n",
       "      <td>1/2/2016 1:25</td>\n",
       "      <td>1/2/2016 1:37</td>\n",
       "      <td>Business</td>\n",
       "      <td>Fort Pierce</td>\n",
       "      <td>Fort Pierce</td>\n",
       "      <td>5.0</td>\n",
       "      <td>None</td>\n",
       "      <td>Medium Distance</td>\n",
       "    </tr>\n",
       "    <tr>\n",
       "      <th>2</th>\n",
       "      <td>1/2/2016 20:25</td>\n",
       "      <td>1/2/2016 20:38</td>\n",
       "      <td>Business</td>\n",
       "      <td>Fort Pierce</td>\n",
       "      <td>Fort Pierce</td>\n",
       "      <td>4.8</td>\n",
       "      <td>Errand/Supplies</td>\n",
       "      <td>Medium Distance</td>\n",
       "    </tr>\n",
       "    <tr>\n",
       "      <th>3</th>\n",
       "      <td>1/5/2016 17:31</td>\n",
       "      <td>1/5/2016 17:45</td>\n",
       "      <td>Business</td>\n",
       "      <td>Fort Pierce</td>\n",
       "      <td>Fort Pierce</td>\n",
       "      <td>4.7</td>\n",
       "      <td>Meeting</td>\n",
       "      <td>Medium Distance</td>\n",
       "    </tr>\n",
       "    <tr>\n",
       "      <th>4</th>\n",
       "      <td>1/6/2016 14:42</td>\n",
       "      <td>1/6/2016 15:49</td>\n",
       "      <td>Business</td>\n",
       "      <td>Fort Pierce</td>\n",
       "      <td>West Palm Beach</td>\n",
       "      <td>63.7</td>\n",
       "      <td>Customer Visit</td>\n",
       "      <td>Super Large Distance</td>\n",
       "    </tr>\n",
       "    <tr>\n",
       "      <th>...</th>\n",
       "      <td>...</td>\n",
       "      <td>...</td>\n",
       "      <td>...</td>\n",
       "      <td>...</td>\n",
       "      <td>...</td>\n",
       "      <td>...</td>\n",
       "      <td>...</td>\n",
       "      <td>...</td>\n",
       "    </tr>\n",
       "    <tr>\n",
       "      <th>1150</th>\n",
       "      <td>12/31/2016 1:07</td>\n",
       "      <td>12/31/2016 1:14</td>\n",
       "      <td>Business</td>\n",
       "      <td>Kar?chi</td>\n",
       "      <td>Kar?chi</td>\n",
       "      <td>0.7</td>\n",
       "      <td>Meeting</td>\n",
       "      <td>Small Distance</td>\n",
       "    </tr>\n",
       "    <tr>\n",
       "      <th>1151</th>\n",
       "      <td>12/31/2016 13:24</td>\n",
       "      <td>12/31/2016 13:42</td>\n",
       "      <td>Business</td>\n",
       "      <td>Kar?chi</td>\n",
       "      <td>Unknown Location</td>\n",
       "      <td>3.9</td>\n",
       "      <td>Temporary Site</td>\n",
       "      <td>Medium Distance</td>\n",
       "    </tr>\n",
       "    <tr>\n",
       "      <th>1152</th>\n",
       "      <td>12/31/2016 15:03</td>\n",
       "      <td>12/31/2016 15:38</td>\n",
       "      <td>Business</td>\n",
       "      <td>Unknown Location</td>\n",
       "      <td>Unknown Location</td>\n",
       "      <td>16.2</td>\n",
       "      <td>Meeting</td>\n",
       "      <td>Super Large Distance</td>\n",
       "    </tr>\n",
       "    <tr>\n",
       "      <th>1153</th>\n",
       "      <td>12/31/2016 21:32</td>\n",
       "      <td>12/31/2016 21:50</td>\n",
       "      <td>Business</td>\n",
       "      <td>Katunayake</td>\n",
       "      <td>Gampaha</td>\n",
       "      <td>6.4</td>\n",
       "      <td>Temporary Site</td>\n",
       "      <td>Large Distance</td>\n",
       "    </tr>\n",
       "    <tr>\n",
       "      <th>1154</th>\n",
       "      <td>12/31/2016 22:08</td>\n",
       "      <td>12/31/2016 23:51</td>\n",
       "      <td>Business</td>\n",
       "      <td>Gampaha</td>\n",
       "      <td>Ilukwatta</td>\n",
       "      <td>48.2</td>\n",
       "      <td>Temporary Site</td>\n",
       "      <td>Super Large Distance</td>\n",
       "    </tr>\n",
       "  </tbody>\n",
       "</table>\n",
       "<p>1155 rows × 8 columns</p>\n",
       "</div>"
      ],
      "text/plain": [
       "           START_DATE*         END_DATE* CATEGORY*            START*  \\\n",
       "0       1/1/2016 21:11    1/1/2016 21:17  Business       Fort Pierce   \n",
       "1        1/2/2016 1:25     1/2/2016 1:37  Business       Fort Pierce   \n",
       "2       1/2/2016 20:25    1/2/2016 20:38  Business       Fort Pierce   \n",
       "3       1/5/2016 17:31    1/5/2016 17:45  Business       Fort Pierce   \n",
       "4       1/6/2016 14:42    1/6/2016 15:49  Business       Fort Pierce   \n",
       "...                ...               ...       ...               ...   \n",
       "1150   12/31/2016 1:07   12/31/2016 1:14  Business           Kar?chi   \n",
       "1151  12/31/2016 13:24  12/31/2016 13:42  Business           Kar?chi   \n",
       "1152  12/31/2016 15:03  12/31/2016 15:38  Business  Unknown Location   \n",
       "1153  12/31/2016 21:32  12/31/2016 21:50  Business        Katunayake   \n",
       "1154  12/31/2016 22:08  12/31/2016 23:51  Business           Gampaha   \n",
       "\n",
       "                 STOP*  MILES*         PURPOSE*        driveCategeory  \n",
       "0          Fort Pierce     5.1   Meal/Entertain       Medium Distance  \n",
       "1          Fort Pierce     5.0             None       Medium Distance  \n",
       "2          Fort Pierce     4.8  Errand/Supplies       Medium Distance  \n",
       "3          Fort Pierce     4.7          Meeting       Medium Distance  \n",
       "4      West Palm Beach    63.7   Customer Visit  Super Large Distance  \n",
       "...                ...     ...              ...                   ...  \n",
       "1150           Kar?chi     0.7          Meeting        Small Distance  \n",
       "1151  Unknown Location     3.9   Temporary Site       Medium Distance  \n",
       "1152  Unknown Location    16.2          Meeting  Super Large Distance  \n",
       "1153           Gampaha     6.4   Temporary Site        Large Distance  \n",
       "1154         Ilukwatta    48.2   Temporary Site  Super Large Distance  \n",
       "\n",
       "[1155 rows x 8 columns]"
      ]
     },
     "execution_count": 36,
     "metadata": {},
     "output_type": "execute_result"
    }
   ],
   "source": [
    "dframe.replace(to_replace = 'NaN',value = 'none')"
   ]
  },
  {
   "cell_type": "code",
   "execution_count": 37,
   "id": "f09129bd-3317-4969-a5c6-e7e7e0b076a2",
   "metadata": {},
   "outputs": [
    {
     "data": {
      "text/plain": [
       "array(['Meal/Entertain', 'None', 'Errand/Supplies', 'Meeting',\n",
       "       'Customer Visit', 'Temporary Site', 'Between Offices',\n",
       "       'Charity ($)', 'Commute', 'Moving', 'Airport/Travel'], dtype=object)"
      ]
     },
     "execution_count": 37,
     "metadata": {},
     "output_type": "execute_result"
    }
   ],
   "source": [
    "dframe['PURPOSE*'].unique()"
   ]
  },
  {
   "cell_type": "code",
   "execution_count": 38,
   "id": "c4ddf73d-4f2d-4e68-92aa-64a7692fec5b",
   "metadata": {},
   "outputs": [
    {
     "data": {
      "text/plain": [
       "None               502\n",
       "Meeting            187\n",
       "Meal/Entertain     160\n",
       "Errand/Supplies    128\n",
       "Customer Visit     101\n",
       "Temporary Site      50\n",
       "Between Offices     18\n",
       "Moving               4\n",
       "Airport/Travel       3\n",
       "Charity ($)          1\n",
       "Commute              1\n",
       "Name: PURPOSE*, dtype: int64"
      ]
     },
     "execution_count": 38,
     "metadata": {},
     "output_type": "execute_result"
    }
   ],
   "source": [
    "dframe['PURPOSE*'].value_counts()"
   ]
  },
  {
   "cell_type": "code",
   "execution_count": 39,
   "id": "faa8c2d1-7c30-47cd-98e2-bdbf9ae455f1",
   "metadata": {},
   "outputs": [],
   "source": [
    "# Creating the dummy variables of the features required \n",
    "# Creating dummy variables for. 'Category' and 'purpose'\n",
    "\n",
    "# By Label Encoding\n",
    "lc.fit_transform([i for i in dframe['PURPOSE*'].unique()])\n",
    "dframe['PURPOSE*'] = dframe['PURPOSE*'].map({'Meal/Entertain' : 0,\n",
    "                                                 'None' : 1,\n",
    "                                                 'Errand/Supplies' : 2,\n",
    "                                                 'Meeting' : 3,\n",
    "                                                 'Customer Visit' : 4,\n",
    "                                                 'Temporary Site' : 5,\n",
    "                                                 'Between Offices' : 6,\n",
    "                                                 'Charity ($)' : 7,\n",
    "                                                 'Commute' : 8,\n",
    "                                                 'Moving' : 9,\n",
    "                                                 'Airport/Travel' : 10})"
   ]
  },
  {
   "cell_type": "code",
   "execution_count": 40,
   "id": "c9c9034f-7e10-463b-93a2-dd31646fbde3",
   "metadata": {},
   "outputs": [
    {
     "data": {
      "text/plain": [
       "array(['Medium Distance', 'Super Large Distance', 'Large Distance',\n",
       "       'Small Distance'], dtype=object)"
      ]
     },
     "execution_count": 40,
     "metadata": {},
     "output_type": "execute_result"
    }
   ],
   "source": [
    "dframe['driveCategeory'].unique()"
   ]
  },
  {
   "cell_type": "code",
   "execution_count": 41,
   "id": "7ebaa9ec-c741-422b-b2c5-ad29ae140771",
   "metadata": {},
   "outputs": [
    {
     "data": {
      "text/plain": [
       "Super Large Distance    305\n",
       "Medium Distance         288\n",
       "Small Distance          288\n",
       "Large Distance          274\n",
       "Name: driveCategeory, dtype: int64"
      ]
     },
     "execution_count": 41,
     "metadata": {},
     "output_type": "execute_result"
    }
   ],
   "source": [
    "dframe['driveCategeory'].value_counts()"
   ]
  },
  {
   "cell_type": "code",
   "execution_count": 42,
   "id": "5d94e75b-73b3-4f63-9eea-ff0f9a92d223",
   "metadata": {},
   "outputs": [],
   "source": [
    "lc.fit_transform([i for i in dframe['driveCategeory'].unique()])\n",
    "dframe['driveCategeory'] = dframe['driveCategeory'].map({'Medium Distance' : 0, \n",
    "                                           'Super Large Distance' : 1, \n",
    "                                           'Large Distance' : 2, \n",
    "                                           'Small Distance' : 3})"
   ]
  },
  {
   "cell_type": "code",
   "execution_count": 46,
   "id": "f5a3f3f2-75bf-4960-b638-5efe43934238",
   "metadata": {},
   "outputs": [
    {
     "data": {
      "text/plain": [
       "array(['Business', 'Personal'], dtype=object)"
      ]
     },
     "execution_count": 46,
     "metadata": {},
     "output_type": "execute_result"
    }
   ],
   "source": [
    "dframe['CATEGORY*'].unique()"
   ]
  },
  {
   "cell_type": "code",
   "execution_count": 47,
   "id": "41fb3718-ced3-4e97-a39b-6160a9650a81",
   "metadata": {
    "tags": []
   },
   "outputs": [
    {
     "data": {
      "text/plain": [
       "Business    1078\n",
       "Personal      77\n",
       "Name: CATEGORY*, dtype: int64"
      ]
     },
     "execution_count": 47,
     "metadata": {},
     "output_type": "execute_result"
    }
   ],
   "source": [
    "dframe['CATEGORY*'].value_counts()"
   ]
  },
  {
   "cell_type": "code",
   "execution_count": 50,
   "id": "3919c807-fdaf-4272-a855-64a513f65c53",
   "metadata": {},
   "outputs": [],
   "source": [
    "lc.fit_transform([i for i in dframe['CATEGORY*']])\n",
    "dframe['CATEGORY*'] = dframe['CATEGORY*'].map({'Business' : 0, \n",
    "                                                               'Personal' : 1})"
   ]
  },
  {
   "cell_type": "code",
   "execution_count": 57,
   "id": "66c648b7-3e93-40c5-803a-aefaae1521a3",
   "metadata": {},
   "outputs": [
    {
     "data": {
      "text/html": [
       "<div>\n",
       "<style scoped>\n",
       "    .dataframe tbody tr th:only-of-type {\n",
       "        vertical-align: middle;\n",
       "    }\n",
       "\n",
       "    .dataframe tbody tr th {\n",
       "        vertical-align: top;\n",
       "    }\n",
       "\n",
       "    .dataframe thead th {\n",
       "        text-align: right;\n",
       "    }\n",
       "</style>\n",
       "<table border=\"1\" class=\"dataframe\">\n",
       "  <thead>\n",
       "    <tr style=\"text-align: right;\">\n",
       "      <th></th>\n",
       "      <th>Start Location</th>\n",
       "      <th>Purpose</th>\n",
       "      <th>Category</th>\n",
       "      <th>Distance Classifier</th>\n",
       "    </tr>\n",
       "  </thead>\n",
       "  <tbody>\n",
       "    <tr>\n",
       "      <th>0</th>\n",
       "      <td>Fort Pierce</td>\n",
       "      <td>0</td>\n",
       "      <td>0</td>\n",
       "      <td>0</td>\n",
       "    </tr>\n",
       "    <tr>\n",
       "      <th>1</th>\n",
       "      <td>Fort Pierce</td>\n",
       "      <td>1</td>\n",
       "      <td>0</td>\n",
       "      <td>0</td>\n",
       "    </tr>\n",
       "    <tr>\n",
       "      <th>2</th>\n",
       "      <td>Fort Pierce</td>\n",
       "      <td>2</td>\n",
       "      <td>0</td>\n",
       "      <td>0</td>\n",
       "    </tr>\n",
       "    <tr>\n",
       "      <th>3</th>\n",
       "      <td>Fort Pierce</td>\n",
       "      <td>3</td>\n",
       "      <td>0</td>\n",
       "      <td>0</td>\n",
       "    </tr>\n",
       "    <tr>\n",
       "      <th>4</th>\n",
       "      <td>Fort Pierce</td>\n",
       "      <td>4</td>\n",
       "      <td>0</td>\n",
       "      <td>1</td>\n",
       "    </tr>\n",
       "    <tr>\n",
       "      <th>...</th>\n",
       "      <td>...</td>\n",
       "      <td>...</td>\n",
       "      <td>...</td>\n",
       "      <td>...</td>\n",
       "    </tr>\n",
       "    <tr>\n",
       "      <th>1150</th>\n",
       "      <td>Kar?chi</td>\n",
       "      <td>3</td>\n",
       "      <td>0</td>\n",
       "      <td>3</td>\n",
       "    </tr>\n",
       "    <tr>\n",
       "      <th>1151</th>\n",
       "      <td>Kar?chi</td>\n",
       "      <td>5</td>\n",
       "      <td>0</td>\n",
       "      <td>0</td>\n",
       "    </tr>\n",
       "    <tr>\n",
       "      <th>1152</th>\n",
       "      <td>Unknown Location</td>\n",
       "      <td>3</td>\n",
       "      <td>0</td>\n",
       "      <td>1</td>\n",
       "    </tr>\n",
       "    <tr>\n",
       "      <th>1153</th>\n",
       "      <td>Katunayake</td>\n",
       "      <td>5</td>\n",
       "      <td>0</td>\n",
       "      <td>2</td>\n",
       "    </tr>\n",
       "    <tr>\n",
       "      <th>1154</th>\n",
       "      <td>Gampaha</td>\n",
       "      <td>5</td>\n",
       "      <td>0</td>\n",
       "      <td>1</td>\n",
       "    </tr>\n",
       "  </tbody>\n",
       "</table>\n",
       "<p>1155 rows × 4 columns</p>\n",
       "</div>"
      ],
      "text/plain": [
       "        Start Location  Purpose  Category  Distance Classifier\n",
       "0          Fort Pierce        0         0                    0\n",
       "1          Fort Pierce        1         0                    0\n",
       "2          Fort Pierce        2         0                    0\n",
       "3          Fort Pierce        3         0                    0\n",
       "4          Fort Pierce        4         0                    1\n",
       "...                ...      ...       ...                  ...\n",
       "1150           Kar?chi        3         0                    3\n",
       "1151           Kar?chi        5         0                    0\n",
       "1152  Unknown Location        3         0                    1\n",
       "1153        Katunayake        5         0                    2\n",
       "1154           Gampaha        5         0                    1\n",
       "\n",
       "[1155 rows x 4 columns]"
      ]
     },
     "execution_count": 57,
     "metadata": {},
     "output_type": "execute_result"
    }
   ],
   "source": [
    "# Final dataset where scalling and clustering should be done on\n",
    "\n",
    "finalDframe = dframe[['START*','PURPOSE*','CATEGORY*','driveCategeory']]\n",
    "\n",
    "# Renaming the names of the features\n",
    "\n",
    "finalDframe.columns = ['Start Location','Purpose','Category','Distance Classifier']\n",
    "\n",
    "finalDframe"
   ]
  },
  {
   "cell_type": "markdown",
   "id": "7c4d382b-4f25-4020-8b6f-f58cf93b3f53",
   "metadata": {},
   "source": [
    "#### `Inferences : `\n",
    "- Clustering algoritm only works on the categorical values , so the derscription of dummy variables becomes important.\n",
    "- Classification of dummy varibales are made on the following .\n",
    "\n",
    "1. Dummy categorical values of `Purpose`  - Meal/Entertain : 0, None : 1,\n",
    "    Errand/Supplies : 2, Meeting : 3,Customer Visit : 4, Temporary Site : 5,       Between Offices : 6,Charity ($) : 7, Commute : 8,Moving : 9,\n",
    "    Airport/Travel: 10\n",
    "2. Dummy Categorical values of `Category` - Business : 0 , Purpose : 1\n",
    "3. Dummy Categorical values of `Distance Classifier` - small Distance : 0,\n",
    "    medium Distance : 1, large Distance : 2, Super Large Distance : 3  "
   ]
  },
  {
   "cell_type": "code",
   "execution_count": 59,
   "id": "5ed1071b-9c25-4688-91f9-2f14de1ad190",
   "metadata": {},
   "outputs": [
    {
     "data": {
      "text/html": [
       "<div>\n",
       "<style scoped>\n",
       "    .dataframe tbody tr th:only-of-type {\n",
       "        vertical-align: middle;\n",
       "    }\n",
       "\n",
       "    .dataframe tbody tr th {\n",
       "        vertical-align: top;\n",
       "    }\n",
       "\n",
       "    .dataframe thead th {\n",
       "        text-align: right;\n",
       "    }\n",
       "</style>\n",
       "<table border=\"1\" class=\"dataframe\">\n",
       "  <thead>\n",
       "    <tr style=\"text-align: right;\">\n",
       "      <th></th>\n",
       "      <th>Purpose</th>\n",
       "      <th>Category</th>\n",
       "      <th>Distance Classifier</th>\n",
       "    </tr>\n",
       "  </thead>\n",
       "  <tbody>\n",
       "    <tr>\n",
       "      <th>count</th>\n",
       "      <td>1155.000000</td>\n",
       "      <td>1155.000000</td>\n",
       "      <td>1155.000000</td>\n",
       "    </tr>\n",
       "    <tr>\n",
       "      <th>mean</th>\n",
       "      <td>1.871861</td>\n",
       "      <td>0.066667</td>\n",
       "      <td>1.486580</td>\n",
       "    </tr>\n",
       "    <tr>\n",
       "      <th>std</th>\n",
       "      <td>1.585527</td>\n",
       "      <td>0.249552</td>\n",
       "      <td>1.117275</td>\n",
       "    </tr>\n",
       "    <tr>\n",
       "      <th>min</th>\n",
       "      <td>0.000000</td>\n",
       "      <td>0.000000</td>\n",
       "      <td>0.000000</td>\n",
       "    </tr>\n",
       "    <tr>\n",
       "      <th>25%</th>\n",
       "      <td>1.000000</td>\n",
       "      <td>0.000000</td>\n",
       "      <td>1.000000</td>\n",
       "    </tr>\n",
       "    <tr>\n",
       "      <th>50%</th>\n",
       "      <td>1.000000</td>\n",
       "      <td>0.000000</td>\n",
       "      <td>1.000000</td>\n",
       "    </tr>\n",
       "    <tr>\n",
       "      <th>75%</th>\n",
       "      <td>3.000000</td>\n",
       "      <td>0.000000</td>\n",
       "      <td>2.000000</td>\n",
       "    </tr>\n",
       "    <tr>\n",
       "      <th>max</th>\n",
       "      <td>10.000000</td>\n",
       "      <td>1.000000</td>\n",
       "      <td>3.000000</td>\n",
       "    </tr>\n",
       "  </tbody>\n",
       "</table>\n",
       "</div>"
      ],
      "text/plain": [
       "           Purpose     Category  Distance Classifier\n",
       "count  1155.000000  1155.000000          1155.000000\n",
       "mean      1.871861     0.066667             1.486580\n",
       "std       1.585527     0.249552             1.117275\n",
       "min       0.000000     0.000000             0.000000\n",
       "25%       1.000000     0.000000             1.000000\n",
       "50%       1.000000     0.000000             1.000000\n",
       "75%       3.000000     0.000000             2.000000\n",
       "max      10.000000     1.000000             3.000000"
      ]
     },
     "execution_count": 59,
     "metadata": {},
     "output_type": "execute_result"
    }
   ],
   "source": [
    "# Clustering Data description only considered on numberical values of the data frame\n",
    "\n",
    "finalDframe.describe()"
   ]
  },
  {
   "cell_type": "markdown",
   "id": "8694d94d-7286-433a-8c07-1e3c4c20dca7",
   "metadata": {},
   "source": [
    "## Scaling the features down to same scale"
   ]
  },
  {
   "cell_type": "code",
   "execution_count": 63,
   "id": "a5cf1733-b781-483e-a902-52918b7d6e80",
   "metadata": {},
   "outputs": [],
   "source": [
    "# Drop the unwanted data for scaling \n",
    "\n",
    "clusteringScaleData = finalDframe.drop('Start Location',axis = 1)"
   ]
  },
  {
   "cell_type": "code",
   "execution_count": 65,
   "id": "a44ff017-d190-4a5f-8bcf-1ee6c08b9f2f",
   "metadata": {},
   "outputs": [],
   "source": [
    "# Importing the libraries and initiate objects\n",
    "\n",
    "from sklearn.preprocessing import StandardScaler\n",
    "scaler = StandardScaler()\n",
    "\n",
    "# Fit the data to the scaler object\n",
    "scaledData = scaler.fit_transform(clusteringScaleData)"
   ]
  },
  {
   "cell_type": "code",
   "execution_count": 71,
   "id": "1a4333f6-5e78-4afa-833e-514d7d4e460e",
   "metadata": {},
   "outputs": [
    {
     "data": {
      "text/plain": [
       "(array([[-1.1811041 , -0.26726124, -1.33111734],\n",
       "        [-0.55012573, -0.26726124, -1.33111734],\n",
       "        [ 0.08085264, -0.26726124, -1.33111734],\n",
       "        ...,\n",
       "        [ 0.71183101, -0.26726124, -0.43569479],\n",
       "        [ 1.97378774, -0.26726124,  0.45972777],\n",
       "        [ 1.97378774, -0.26726124, -0.43569479]]),\n",
       " (1155, 3))"
      ]
     },
     "execution_count": 71,
     "metadata": {},
     "output_type": "execute_result"
    }
   ],
   "source": [
    "# The final Data stored in the array\n",
    "\n",
    "scaledData,scaledData.shape"
   ]
  },
  {
   "cell_type": "code",
   "execution_count": 73,
   "id": "4bcb9061-1cb1-4eea-9dd6-d6aef7b74ed9",
   "metadata": {},
   "outputs": [
    {
     "data": {
      "text/html": [
       "<div>\n",
       "<style scoped>\n",
       "    .dataframe tbody tr th:only-of-type {\n",
       "        vertical-align: middle;\n",
       "    }\n",
       "\n",
       "    .dataframe tbody tr th {\n",
       "        vertical-align: top;\n",
       "    }\n",
       "\n",
       "    .dataframe thead th {\n",
       "        text-align: right;\n",
       "    }\n",
       "</style>\n",
       "<table border=\"1\" class=\"dataframe\">\n",
       "  <thead>\n",
       "    <tr style=\"text-align: right;\">\n",
       "      <th></th>\n",
       "      <th>Purpose</th>\n",
       "      <th>Category</th>\n",
       "      <th>Distance Classifier</th>\n",
       "    </tr>\n",
       "  </thead>\n",
       "  <tbody>\n",
       "    <tr>\n",
       "      <th>count</th>\n",
       "      <td>1.155000e+03</td>\n",
       "      <td>1.155000e+03</td>\n",
       "      <td>1.155000e+03</td>\n",
       "    </tr>\n",
       "    <tr>\n",
       "      <th>mean</th>\n",
       "      <td>2.629931e-16</td>\n",
       "      <td>1.378791e-15</td>\n",
       "      <td>3.678635e-16</td>\n",
       "    </tr>\n",
       "    <tr>\n",
       "      <th>std</th>\n",
       "      <td>1.000433e+00</td>\n",
       "      <td>1.000433e+00</td>\n",
       "      <td>1.000433e+00</td>\n",
       "    </tr>\n",
       "    <tr>\n",
       "      <th>min</th>\n",
       "      <td>-1.181104e+00</td>\n",
       "      <td>-2.672612e-01</td>\n",
       "      <td>-1.331117e+00</td>\n",
       "    </tr>\n",
       "    <tr>\n",
       "      <th>25%</th>\n",
       "      <td>-5.501257e-01</td>\n",
       "      <td>-2.672612e-01</td>\n",
       "      <td>-4.356948e-01</td>\n",
       "    </tr>\n",
       "    <tr>\n",
       "      <th>50%</th>\n",
       "      <td>-5.501257e-01</td>\n",
       "      <td>-2.672612e-01</td>\n",
       "      <td>-4.356948e-01</td>\n",
       "    </tr>\n",
       "    <tr>\n",
       "      <th>75%</th>\n",
       "      <td>7.118310e-01</td>\n",
       "      <td>-2.672612e-01</td>\n",
       "      <td>4.597278e-01</td>\n",
       "    </tr>\n",
       "    <tr>\n",
       "      <th>max</th>\n",
       "      <td>5.128680e+00</td>\n",
       "      <td>3.741657e+00</td>\n",
       "      <td>1.355150e+00</td>\n",
       "    </tr>\n",
       "  </tbody>\n",
       "</table>\n",
       "</div>"
      ],
      "text/plain": [
       "            Purpose      Category  Distance Classifier\n",
       "count  1.155000e+03  1.155000e+03         1.155000e+03\n",
       "mean   2.629931e-16  1.378791e-15         3.678635e-16\n",
       "std    1.000433e+00  1.000433e+00         1.000433e+00\n",
       "min   -1.181104e+00 -2.672612e-01        -1.331117e+00\n",
       "25%   -5.501257e-01 -2.672612e-01        -4.356948e-01\n",
       "50%   -5.501257e-01 -2.672612e-01        -4.356948e-01\n",
       "75%    7.118310e-01 -2.672612e-01         4.597278e-01\n",
       "max    5.128680e+00  3.741657e+00         1.355150e+00"
      ]
     },
     "execution_count": 73,
     "metadata": {},
     "output_type": "execute_result"
    }
   ],
   "source": [
    "# Convert the data from array to Data Frame\n",
    "\n",
    "scaledData = pd.DataFrame(scaledData)\n",
    "scaledData.columns = ['Purpose','Category','Distance Classifier']\n",
    "\n",
    "scaledData.describe()"
   ]
  },
  {
   "cell_type": "markdown",
   "id": "9afbe7a8-3df0-466e-8ee1-49c5c5457886",
   "metadata": {},
   "source": [
    "#### `Inferences :`\n",
    "- If data is not scaled the dummy variables have no scaling or factor that repesents a uniqeness in measure of one feature to oher.\n",
    "- Every variable is scaled down and lies between [-1,1] and sepends on the type o scaling algorithm we take."
   ]
  },
  {
   "cell_type": "markdown",
   "id": "e3673f0f-e90e-4449-978d-8daf2764ea00",
   "metadata": {},
   "source": [
    "## K-Means Clustering"
   ]
  },
  {
   "cell_type": "code",
   "execution_count": 75,
   "id": "cb2cc3ee-44c0-45ff-83bc-ed1e8ceafed8",
   "metadata": {},
   "outputs": [],
   "source": [
    "# Import required libraries for kmeans clustering\n",
    "\n",
    "from sklearn.cluster import KMeans"
   ]
  },
  {
   "cell_type": "markdown",
   "id": "2b0a6818-d3d3-47b9-be95-3ad0b0eb54b5",
   "metadata": {},
   "source": [
    "### Elbow-curve"
   ]
  },
  {
   "cell_type": "code",
   "execution_count": 77,
   "id": "d81665cb-55a5-4e1f-a7fc-e7451a39c61f",
   "metadata": {},
   "outputs": [
    {
     "name": "stdout",
     "output_type": "stream",
     "text": [
      "[[3, 1452.7311251126234], [4, 807.871703896607], [5, 666.26329661523], [6, 587.738658073605], [7, 491.3923789926363], [8, 409.648656053301], [9, 332.47350244264044], [10, 261.4684292623478], [11, 228.02851668391804], [12, 197.08721972073536], [13, 170.3091279865884], [14, 148.06847601680357]]\n"
     ]
    }
   ],
   "source": [
    "k_vals = np.arange(3,15)\n",
    "wss = []\n",
    "for i in k_vals:\n",
    "  kmodel = KMeans(n_clusters = i)\n",
    "  kmodel.fit(scaledData)\n",
    "  wss.append([i,kmodel.inertia_])\n",
    "\n",
    "print(wss)"
   ]
  },
  {
   "cell_type": "code",
   "execution_count": 78,
   "id": "72cb248c-e4b3-4299-a92b-399c7bed3339",
   "metadata": {},
   "outputs": [
    {
     "data": {
      "image/png": "[encoded data removed]",
      "text/plain": [
       "<Figure size 640x480 with 1 Axes>"
      ]
     },
     "metadata": {},
     "output_type": "display_data"
    }
   ],
   "source": [
    "wss = pd.DataFrame(wss, columns = ['k', 'WSS'])\n",
    "\n",
    "sns.lineplot(x = 'k', y = 'WSS', data = wss)\n",
    "plt.ylabel('Within cluster sum of squares')\n",
    "    plt.title('Elbow Curve', fontsize = 14,)\n",
    "plt.show()"
   ]
  },
  {
   "cell_type": "markdown",
   "id": "26a27759-07dc-43f9-a2d8-9ea008e865ae",
   "metadata": {},
   "source": [
    "#### `Inferences : `\n",
    "- The steep points of the Elbow Curve represent the optimal number of clusters be considered.\n",
    "- We can consider 4 Points in this case as the optimal number of clusters for the dataframe ."
   ]
  },
  {
   "cell_type": "code",
   "execution_count": null,
   "id": "1e7914b4",
   "metadata": {},
   "outputs": [],
   "source": []
  }
 ],
 "metadata": {
  "kernelspec": {
   "display_name": "Python 3 (ipykernel)",
   "language": "python",
   "name": "python3"
  },
  "language_info": {
   "codemirror_mode": {
    "name": "ipython",
    "version": 3
   },
   "file_extension": ".py",
   "mimetype": "text/x-python",
   "name": "python",
   "nbconvert_exporter": "python",
   "pygments_lexer": "ipython3",
   "version": "3.9.12"
  }
 },
 "nbformat": 4,
 "nbformat_minor": 5
}
